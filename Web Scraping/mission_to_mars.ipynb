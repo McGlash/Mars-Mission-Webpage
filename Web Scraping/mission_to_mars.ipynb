{
 "cells": [
  {
   "cell_type": "code",
   "execution_count": 99,
   "metadata": {},
   "outputs": [],
   "source": [
    "#import modules\n",
    "\n",
    "from bs4 import BeautifulSoup as BS\n",
    "from splinter import Browser\n",
    "from pandas import pandas as pd"
   ]
  },
  {
   "cell_type": "code",
   "execution_count": 177,
   "metadata": {},
   "outputs": [],
   "source": [
    "#setup\n",
    "\n",
    "    #path to access chrome driver (see in folder)\n",
    "    \n",
    "executable_path = {\"executable_path\": \"driver/chromedriver.exe\"}\n",
    "\n",
    "browser = Browser(\"chrome\", **executable_path, headless=False)"
   ]
  },
  {
   "cell_type": "markdown",
   "metadata": {},
   "source": [
    "### NASA Mars News"
   ]
  },
  {
   "cell_type": "code",
   "execution_count": null,
   "metadata": {},
   "outputs": [],
   "source": [
    "    #identify url\n",
    "\n",
    "url_news=\"https://mars.nasa.gov/news/\"\n",
    "\n",
    "    #open URL\n",
    "    \n",
    "browser.visit(url_news)"
   ]
  },
  {
   "cell_type": "code",
   "execution_count": 23,
   "metadata": {},
   "outputs": [],
   "source": [
    "# access and parse site\n",
    "\n",
    "html_news = browser.html\n",
    "mars_soup = BS(html_news, 'html.parser')"
   ]
  },
  {
   "cell_type": "code",
   "execution_count": 29,
   "metadata": {},
   "outputs": [],
   "source": [
    "    #scrap article titles\n",
    "article_title = mars_soup.find_all('div', class_='content_title')\n",
    "\n",
    "    #scrap article teasers\n",
    "article_paragraph = mars_soup.find_all('div', class_='article_teaser_body')"
   ]
  },
  {
   "cell_type": "code",
   "execution_count": 51,
   "metadata": {},
   "outputs": [
    {
     "name": "stdout",
     "output_type": "stream",
     "text": [
      "NASA's MAVEN Observes Martian Night Sky Pulsing in Ultraviolet Light\n",
      "___\n",
      "8 Martian Postcards to Celebrate Curiosity's Landing Anniversary\n",
      "___\n",
      "NASA, ULA Launch Mars 2020 Perseverance Rover Mission to Red Planet\n",
      "___\n",
      "NASA's Perseverance Rover Will Carry First Spacesuit Materials to Mars\n",
      "___\n",
      "A New Video Captures the Science of NASA's Perseverance Mars Rover\n",
      "___\n",
      "NASA Invites Public to Share Excitement of Mars 2020 Perseverance Rover Launch\n",
      "___\n",
      "NASA's Mars Perseverance Rover Passes Flight Readiness Review\n",
      "___\n",
      "NASA to Broadcast Mars 2020 Perseverance Launch, Prelaunch Activities\n",
      "___\n",
      "6 Things to Know About NASA's Ingenuity Mars Helicopter\n",
      "___\n",
      "Join NASA for the Launch of the Mars 2020 Perseverance Rover\n",
      "___\n",
      "NASA's Perseverance Rover Attached to Atlas V Rocket\n",
      "___\n",
      "7 Things to Know About the Mars 2020 Perseverance Rover Mission\n",
      "___\n",
      "NASA's InSight Flexes Its Arm While Its 'Mole' Hits Pause\n",
      "___\n",
      "Curiosity Mars Rover's Summer Road Trip Has Begun\n",
      "___\n",
      "How NASA's Mars Helicopter Will Reach the Red Planet's Surface\n",
      "___\n",
      "The Launch Is Approaching for NASA's Next Mars Rover, Perseverance\n",
      "___\n",
      "NASA to Hold Mars 2020 Perseverance Rover Launch Briefing\n",
      "___\n",
      "While Stargazing on Mars, NASA's Curiosity Rover Spots Earth and Venus\n",
      "___\n",
      "NASA's Mars Rover Drivers Need Your Help\n",
      "___\n",
      "Three New Views of Mars' Moon Phobos\n",
      "___\n",
      "The Extraordinary Sample-Gathering System of NASA's Perseverance Mars Rover\n",
      "___\n",
      "The Detective Aboard NASA's Perseverance Rover\n",
      "___\n",
      "MAVEN Maps Electric Currents around Mars that are Fundamental to Atmospheric Loss\n",
      "___\n",
      "Air Deliveries Bring NASA's Perseverance Mars Rover Closer to Launch\n",
      "___\n",
      "NASA Wins 4 Webbys, 4 People's Voice Awards\n",
      "___\n",
      "NASA's Perseverance Rover Goes Through Trials by Fire, Ice, Light and Sound\n",
      "___\n",
      "NASA's Perseverance Rover Mission Getting in Shape for Launch\n",
      "___\n",
      "NASA Perseverance Mars Rover Scientists Train in the Nevada Desert\n",
      "___\n",
      "NASA's Perseverance Rover Will Look at Mars Through These 'Eyes'\n",
      "___\n",
      "Meet the People Behind NASA's Perseverance Rover\n",
      "___\n",
      "Q&A with the Student Who Named Ingenuity, NASA's Mars Helicopter\n",
      "___\n",
      "Alabama High School Student Names NASA's Mars Helicopter\n",
      "___\n",
      "How NASA's Perseverance Mars Team Adjusted to Work in the Time of Coronavirus\n",
      "___\n",
      "NASA's Perseverance Mars Rover Gets Balanced\n",
      "___\n",
      "NASA's Curiosity Keeps Rolling As Team Operates Rover From Home\n",
      "___\n",
      "Mars Helicopter Attached to NASA's Perseverance Rover\n",
      "___\n",
      "NASA's Perseverance Mars Rover Gets Its Wheels and Air Brakes\n",
      "___\n",
      "The Man Who Wanted to Fly on Mars\n",
      "___\n",
      "10.9 Million Names Now Aboard NASA's Perseverance Mars Rover\n",
      "___\n",
      "NASA's Curiosity Mars Rover Takes a New Selfie Before Record Climb\n",
      "___\n"
     ]
    }
   ],
   "source": [
    "    #View and append article titles\n",
    "\n",
    "titles =[]\n",
    "    \n",
    "for title in article_title[1:]: #first element of class=\"content_title\" is hidden and not associated with teaser paragraph\n",
    "    \n",
    "    #prevent duplicates\n",
    "    \n",
    "        holder = title.text\n",
    "        \n",
    "        title_cleaned = holder.strip()\n",
    "\n",
    "        if title_cleaned not in titles:\n",
    "            \n",
    "            print(title_cleaned)\n",
    "            print(\"___\")\n",
    "            titles.append(title_cleaned)"
   ]
  },
  {
   "cell_type": "code",
   "execution_count": 52,
   "metadata": {},
   "outputs": [
    {
     "data": {
      "text/plain": [
       "40"
      ]
     },
     "execution_count": 52,
     "metadata": {},
     "output_type": "execute_result"
    }
   ],
   "source": [
    "    #verify\n",
    "\n",
    "len(titles)"
   ]
  },
  {
   "cell_type": "code",
   "execution_count": 53,
   "metadata": {},
   "outputs": [
    {
     "name": "stdout",
     "output_type": "stream",
     "text": [
      "Vast areas of the Martian night sky pulse in ultraviolet light, according to images from NASA’s MAVEN spacecraft. The results are being used to illuminate complex circulation patterns in the Martian atmosphere.\n",
      "___\n",
      "The NASA rover touched down eight years ago, on Aug. 5, 2012, and will soon be joined by a second rover, Perseverance.\n",
      "___\n",
      "The agency's Mars 2020 mission is on its way. It will land at Jezero Crater in about seven months, on Feb. 18, 2021. \n",
      "___\n",
      "In a Q&A, spacesuit designer Amy Ross explains how five samples, including a piece of helmet visor, will be tested aboard the rover, which is targeting a July 30 launch. \n",
      "___\n",
      "With a targeted launch date of July 30, the next robotic scientist NASA is sending to the to the Red Planet has big ambitions.\n",
      "___\n",
      "There are lots of ways to participate in the historic event, which is targeted for July 30.\n",
      "___\n",
      "​The agency's Mars 2020 mission has one more big prelaunch review – the Launch Readiness Review, on July 27.\n",
      "___\n",
      "Starting July 27, news activities will cover everything from mission engineering and science to returning samples from Mars to, of course, the launch itself.\n",
      "___\n",
      "The first helicopter attempting to fly on another planet is a marvel of engineering. Get up to speed with these key facts about its plans.\n",
      "___\n",
      "No matter where you live, choose from a menu of activities to join NASA as we \"Countdown to Mars\" and launch the Perseverance rover to the Red Planet.\n",
      "___\n",
      "Ready for its launch later in the month, the Mars-bound rover will touch terra firma no more.\n",
      "___\n",
      "NASA's next rover to the Red Planet is slated to launch no earlier than July 30. These highlights will get you up to speed on the ambitious mission.\n",
      "___\n",
      "Now that the lander's robotic arm has helped the mole get underground, it will resume science activities that have been on hold.\n",
      "___\n",
      "After more than a year in the \"clay-bearing unit,\" Curiosity is making a mile-long journey around some deep sand so that it can explore higher up Mount Sharp.\n",
      "___\n",
      "The small craft will seek to prove that powered, controlled flight is possible on another planet. But just getting it onto the surface of Mars will take a whole lot of ingenuity.\n",
      "___\n",
      "The Red Planet's surface has been visited by eight NASA spacecraft. The ninth will be the first that includes a roundtrip ticket in its flight plan. \n",
      "___\n",
      "Learn more about the agency's next Red Planet mission during a live event on June 17.\n",
      "___\n",
      "This new portrait of the Red Planet's neighbors was taken during a time when there's more dust in the air on Mars.\n",
      "___\n",
      "Using an online tool to label Martian terrain types, you can train an artificial intelligence algorithm that could improve the way engineers guide the Curiosity rover.\n",
      "___\n",
      "Taken with the infrared camera aboard NASA's Odyssey orbiter, they reveal temperature variations on the small moon as it drifts into and out of Mars’ shadow.\n",
      "___\n",
      "Two astronauts collected Moon rocks on Apollo 11. It will take three robotic systems working together to gather up the first Mars rock samples for return to Earth.\n",
      "___\n",
      "An instrument called SHERLOC will, with the help of its partner WATSON, hunt for signs of ancient life by detecting organic molecules and minerals.\n",
      "___\n",
      "Five years after NASA’s MAVEN spacecraft entered into orbit around Mars, data from the mission has led to the creation of a map of electric current systems in the Martian atmosphere.\n",
      "___\n",
      "A NASA Wallops Flight Facility cargo plane transported more than two tons of equipment — including the rover's sample collection tubes — to Florida for this summer's liftoff.\n",
      "___\n",
      "Winners include the JPL-managed \"Send Your Name to Mars\" campaign, NASA's Global Climate Change website and Solar System Interactive.\n",
      "___\n",
      "The agency's new Mars rover is put through a series of tests in vacuum chambers, acoustic chambers and more to get ready for the Red Planet.\n",
      "___\n",
      "Stacking spacecraft components on top of each other is one of the final assembly steps before a mission launches to the Red Planet. \n",
      "___\n",
      "Team members searched for signs of ancient microscopic life there, just as NASA's latest rover will on the Red Planet next year.\n",
      "___\n",
      "A pair of zoomable cameras will help scientists and rover drivers with high-resolution color images.\n",
      "___\n",
      "These are the scientists and engineers who built NASA's next Mars rover and who will guide it to a safe landing in Jezero Crater. \n",
      "___\n",
      "As a longtime fan of space exploration, Vaneeza Rupani appreciates the creativity and collaboration involved with trying to fly on another planet.\n",
      "___\n",
      "Vaneeza Rupani's essay was chosen as the name for the small spacecraft, which will mark NASA's first attempt at powered flight on another planet.\n",
      "___\n",
      "Like much of the rest of the world, the Mars rover team is pushing forward with its mission-critical work while putting the health and safety of their colleagues and community first.\n",
      "___\n",
      "The mission team performed a crucial weight-balancing test on the rover in preparation for this summer's history-making launch to the Red Planet.\n",
      "___\n",
      "The team has learned to meet new challenges as they work remotely on the Mars mission.\n",
      "___\n",
      "The team also fueled the rover's sky crane to get ready for this summer's history-making launch.\n",
      "___\n",
      "After the rover was shipped from JPL to Kennedy Space Center, the team is getting closer to finalizing the spacecraft for launch later this summer.\n",
      "___\n",
      "The Mars Helicopter is riding to the Red Planet this summer with NASA's Perseverance rover. The helicopter's chief engineer, Bob Balaram, shares the saga of how it came into being.\n",
      "___\n",
      "As part of NASA's 'Send Your Name to Mars' campaign, they've been stenciled onto three microchips along with essays from NASA's 'Name the Rover' contest. Next stop: Mars.\n",
      "___\n",
      "Along with capturing an image before its steepest ascent ever, the robotic explorer filmed its \"selfie stick,\" or robotic arm, in action.\n",
      "___\n"
     ]
    }
   ],
   "source": [
    "    #View and append article teasers\n",
    "    \n",
    "teasers=[]\n",
    "\n",
    "for paragraph in article_paragraph:\n",
    "        print(paragraph.text)\n",
    "        print(\"___\")\n",
    "        teasers.append(paragraph.text)"
   ]
  },
  {
   "cell_type": "code",
   "execution_count": 54,
   "metadata": {},
   "outputs": [
    {
     "data": {
      "text/plain": [
       "40"
      ]
     },
     "execution_count": 54,
     "metadata": {},
     "output_type": "execute_result"
    }
   ],
   "source": [
    "    #verify\n",
    "len(teasers)"
   ]
  },
  {
   "cell_type": "markdown",
   "metadata": {},
   "source": [
    "### JPL Mars Space Images - Featured Image"
   ]
  },
  {
   "cell_type": "code",
   "execution_count": 183,
   "metadata": {},
   "outputs": [],
   "source": [
    "    #identify url\n",
    "\n",
    "url_images=\"https://www.jpl.nasa.gov/spaceimages/?search=&category=Mars\"\n",
    "\n",
    "    #open URL\n",
    "    \n",
    "browser.visit(url_images)"
   ]
  },
  {
   "cell_type": "code",
   "execution_count": 184,
   "metadata": {},
   "outputs": [],
   "source": [
    "# access and parse site\n",
    "\n",
    "html_featured_image = browser.html\n",
    "mars_featured_image_soup = BS(html_featured_image, 'html.parser')"
   ]
  },
  {
   "cell_type": "code",
   "execution_count": 185,
   "metadata": {},
   "outputs": [],
   "source": [
    "#pull element containing image\n",
    "\n",
    "image_id = mars_featured_image_soup.find(\n",
    "    \"section\", \n",
    "    class_=\"centered_text clearfix main_feature primary_media_feature single\")"
   ]
  },
  {
   "cell_type": "code",
   "execution_count": 186,
   "metadata": {},
   "outputs": [
    {
     "data": {
      "text/plain": [
       "<section class=\"centered_text clearfix main_feature primary_media_feature single\">\n",
       "<div class=\"carousel_container\">\n",
       "<div class=\"carousel_items\">\n",
       "<article alt=\"One Year of NEOWISE Observations Mapped\" class=\"carousel_item\" style=\"background-image: url('/spaceimages/images/wallpaper/PIA19101-1920x1200.jpg');\">\n",
       "<div class=\"default floating_text_area ms-layer\">\n",
       "<h2 class=\"category_title\">\n",
       "</h2>\n",
       "<h2 class=\"brand_title\">\n",
       "\t\t\t\t  FEATURED IMAGE\n",
       "\t\t\t\t</h2>\n",
       "<h1 class=\"media_feature_title\">\n",
       "\t\t\t\t  One Year of NEOWISE Observations Mapped\t\t\t\t</h1>\n",
       "<div class=\"description\">\n",
       "</div>\n",
       "<footer>\n",
       "<a class=\"button fancybox\" data-description=\"Each dot represents an asteroid or comet that the mission observed.\" data-fancybox-group=\"images\" data-fancybox-href=\"/spaceimages/images/mediumsize/PIA19101_ip.jpg\" data-link=\"/spaceimages/details.php?id=PIA19101\" data-title=\"One Year of NEOWISE Observations Mapped\" id=\"full_image\">\n",
       "\t\t\t\t\tFULL IMAGE\n",
       "\t\t\t\t  </a>\n",
       "</footer>\n",
       "</div>\n",
       "<div class=\"gradient_container_top\"></div>\n",
       "<div class=\"gradient_container_bottom\"></div>\n",
       "</article>\n",
       "</div>\n",
       "</div>\n",
       "</section>"
      ]
     },
     "execution_count": 186,
     "metadata": {},
     "output_type": "execute_result"
    }
   ],
   "source": [
    "image_id"
   ]
  },
  {
   "cell_type": "code",
   "execution_count": 203,
   "metadata": {},
   "outputs": [
    {
     "data": {
      "text/plain": [
       "'/spaceimages/images/mediumsize/PIA19101_ip.jpg'"
      ]
     },
     "execution_count": 203,
     "metadata": {},
     "output_type": "execute_result"
    }
   ],
   "source": [
    "# navigate html element and retrieve attributes\n",
    "\n",
    "element = image_id.find('a')\n",
    "\n",
    "link = element[\"data-fancybox-href\"]\n",
    "\n",
    "link"
   ]
  },
  {
   "cell_type": "code",
   "execution_count": 204,
   "metadata": {},
   "outputs": [
    {
     "data": {
      "text/plain": [
       "'/spaceimages/images/largesize/PIA19101_hires.jpg'"
      ]
     },
     "execution_count": 204,
     "metadata": {},
     "output_type": "execute_result"
    }
   ],
   "source": [
    "#required URL - https://www.jpl.nasa.gov/spaceimages/images/largesize/ID_hires.jpg\n",
    "\n",
    "link_cleaned = link.replace(\"mediumsize\", \"largesize\").replace(\"_ip.jpg\", \"_hires.jpg\")\n",
    "\n",
    "link_cleaned"
   ]
  },
  {
   "cell_type": "code",
   "execution_count": 205,
   "metadata": {},
   "outputs": [
    {
     "data": {
      "text/plain": [
       "'https://www.jpl.nasa.gov/spaceimages/images/largesize/PIA19101_hires.jpg'"
      ]
     },
     "execution_count": 205,
     "metadata": {},
     "output_type": "execute_result"
    }
   ],
   "source": [
    "featured_image_url = f\"https://www.jpl.nasa.gov{link_cleaned}\"\n",
    "\n",
    "featured_image_url"
   ]
  },
  {
   "cell_type": "markdown",
   "metadata": {},
   "source": [
    "### Mars Weather"
   ]
  },
  {
   "cell_type": "code",
   "execution_count": 60,
   "metadata": {},
   "outputs": [],
   "source": [
    "    #identify url\n",
    "\n",
    "url_weather=\"https://twitter.com/marswxreport?lang=en\"\n",
    "\n",
    "    #open URL\n",
    "    \n",
    "browser.visit(url_weather)"
   ]
  },
  {
   "cell_type": "code",
   "execution_count": 94,
   "metadata": {},
   "outputs": [],
   "source": [
    "# access and parse site\n",
    "\n",
    "html_weather = browser.html\n",
    "mars_weather_soup = BS(html_weather, 'html.parser')"
   ]
  },
  {
   "cell_type": "code",
   "execution_count": 88,
   "metadata": {},
   "outputs": [],
   "source": [
    "    #scrap tweet text\n",
    "weather_info = mars_weather_soup.find(\n",
    "    'div', \n",
    "    class_=\"css-901oao r-hkyrab r-1qd0xha r-a023e6 r-16dba41 r-ad9z0x r-bcqeeo r-bnwqim r-qvutc0\")\n",
    "\n",
    "mars_weather = weather_info.text.replace(\"\\n\", \", \")"
   ]
  },
  {
   "cell_type": "code",
   "execution_count": 89,
   "metadata": {},
   "outputs": [
    {
     "data": {
      "text/plain": [
       "'InSight sol 605 (2020-08-09) low -92.7ºC (-134.8ºF) high -18.4ºC (-1.1ºF), winds from the WNW at 8.8 m/s (19.7 mph) gusting to 22.5 m/s (50.4 mph), pressure at 7.90 hPa'"
      ]
     },
     "execution_count": 89,
     "metadata": {},
     "output_type": "execute_result"
    }
   ],
   "source": [
    "    #verify\n",
    "mars_weather"
   ]
  },
  {
   "cell_type": "markdown",
   "metadata": {},
   "source": [
    "### Mars Facts"
   ]
  },
  {
   "cell_type": "code",
   "execution_count": 118,
   "metadata": {},
   "outputs": [
    {
     "name": "stdout",
     "output_type": "stream",
     "text": [
      "no. of tables: 3\n"
     ]
    },
    {
     "data": {
      "text/plain": [
       "[                      0                              1\n",
       " 0  Equatorial Diameter:                       6,792 km\n",
       " 1       Polar Diameter:                       6,752 km\n",
       " 2                 Mass:  6.39 × 10^23 kg (0.11 Earths)\n",
       " 3                Moons:            2 (Phobos & Deimos)\n",
       " 4       Orbit Distance:       227,943,824 km (1.38 AU)\n",
       " 5         Orbit Period:           687 days (1.9 years)\n",
       " 6  Surface Temperature:                   -87 to -5 °C\n",
       " 7         First Record:              2nd millennium BC\n",
       " 8          Recorded By:           Egyptian astronomers,\n",
       "   Mars - Earth Comparison             Mars            Earth\n",
       " 0               Diameter:         6,779 km        12,742 km\n",
       " 1                   Mass:  6.39 × 10^23 kg  5.97 × 10^24 kg\n",
       " 2                  Moons:                2                1\n",
       " 3      Distance from Sun:   227,943,824 km   149,598,262 km\n",
       " 4         Length of Year:   687 Earth days      365.24 days\n",
       " 5            Temperature:    -153 to 20 °C      -88 to 58°C,\n",
       "                       0                              1\n",
       " 0  Equatorial Diameter:                       6,792 km\n",
       " 1       Polar Diameter:                       6,752 km\n",
       " 2                 Mass:  6.39 × 10^23 kg (0.11 Earths)\n",
       " 3                Moons:            2 (Phobos & Deimos)\n",
       " 4       Orbit Distance:       227,943,824 km (1.38 AU)\n",
       " 5         Orbit Period:           687 days (1.9 years)\n",
       " 6  Surface Temperature:                   -87 to -5 °C\n",
       " 7         First Record:              2nd millennium BC\n",
       " 8          Recorded By:           Egyptian astronomers]"
      ]
     },
     "execution_count": 118,
     "metadata": {},
     "output_type": "execute_result"
    }
   ],
   "source": [
    "    #identify url\n",
    "\n",
    "url_facts=\"https://space-facts.com/mars/\"\n",
    "\n",
    "    #scrap tables\n",
    "fact_tables = pd.read_html(url_facts)\n",
    "\n",
    "    #look at no. of tables scrapped\n",
    "\n",
    "print(f\"no. of tables: {len(fact_tables)}\")\n",
    "\n",
    "fact_tables"
   ]
  },
  {
   "cell_type": "code",
   "execution_count": 119,
   "metadata": {},
   "outputs": [
    {
     "data": {
      "text/html": [
       "<div>\n",
       "<style scoped>\n",
       "    .dataframe tbody tr th:only-of-type {\n",
       "        vertical-align: middle;\n",
       "    }\n",
       "\n",
       "    .dataframe tbody tr th {\n",
       "        vertical-align: top;\n",
       "    }\n",
       "\n",
       "    .dataframe thead th {\n",
       "        text-align: right;\n",
       "    }\n",
       "</style>\n",
       "<table border=\"1\" class=\"dataframe\">\n",
       "  <thead>\n",
       "    <tr style=\"text-align: right;\">\n",
       "      <th></th>\n",
       "      <th>Mars</th>\n",
       "    </tr>\n",
       "    <tr>\n",
       "      <th>Fact</th>\n",
       "      <th></th>\n",
       "    </tr>\n",
       "  </thead>\n",
       "  <tbody>\n",
       "    <tr>\n",
       "      <th>Diameter:</th>\n",
       "      <td>6,779 km</td>\n",
       "    </tr>\n",
       "    <tr>\n",
       "      <th>Mass:</th>\n",
       "      <td>6.39 × 10^23 kg</td>\n",
       "    </tr>\n",
       "    <tr>\n",
       "      <th>Moons:</th>\n",
       "      <td>2</td>\n",
       "    </tr>\n",
       "    <tr>\n",
       "      <th>Distance from Sun:</th>\n",
       "      <td>227,943,824 km</td>\n",
       "    </tr>\n",
       "    <tr>\n",
       "      <th>Length of Year:</th>\n",
       "      <td>687 Earth days</td>\n",
       "    </tr>\n",
       "    <tr>\n",
       "      <th>Temperature:</th>\n",
       "      <td>-153 to 20 °C</td>\n",
       "    </tr>\n",
       "  </tbody>\n",
       "</table>\n",
       "</div>"
      ],
      "text/plain": [
       "                               Mars\n",
       "Fact                               \n",
       "Diameter:                  6,779 km\n",
       "Mass:               6.39 × 10^23 kg\n",
       "Moons:                            2\n",
       "Distance from Sun:   227,943,824 km\n",
       "Length of Year:      687 Earth days\n",
       "Temperature:          -153 to 20 °C"
      ]
     },
     "execution_count": 119,
     "metadata": {},
     "output_type": "execute_result"
    }
   ],
   "source": [
    "# isolate table of interest\n",
    "\n",
    "mars_facts = fact_tables[1]\n",
    "\n",
    "#clean-up\n",
    "\n",
    "mars_facts.drop(\"Earth\", 1, inplace=True)\n",
    "\n",
    "mars_facts.rename(columns={\"Mars - Earth Comparison\" : \"Fact\"}, inplace=True)\n",
    "\n",
    "mars_facts.set_index(\"Fact\", inplace=True)\n",
    "\n",
    "mars_facts"
   ]
  },
  {
   "cell_type": "markdown",
   "metadata": {},
   "source": [
    "### Mars Hemispheres"
   ]
  },
  {
   "cell_type": "code",
   "execution_count": 120,
   "metadata": {},
   "outputs": [],
   "source": [
    "    #identify url\n",
    "\n",
    "url_hemisphere=\"https://astrogeology.usgs.gov/search/results?q=hemisphere+enhanced&k1=target&v1=Mars\"\n",
    "\n",
    "    #open URL\n",
    "    \n",
    "browser.visit(url_hemisphere)"
   ]
  },
  {
   "cell_type": "code",
   "execution_count": 121,
   "metadata": {},
   "outputs": [],
   "source": [
    "# access and parse site\n",
    "\n",
    "html_hemisphere = browser.html\n",
    "mars_hemisphere_soup = BS(html_hemisphere, 'html.parser')"
   ]
  },
  {
   "cell_type": "code",
   "execution_count": 145,
   "metadata": {},
   "outputs": [],
   "source": [
    "#url to access image - https://astropedia.astrogeology.usgs.gov/download/Mars/Viking/HEMISPHERE_NAME.tif/full.jpg\n",
    " \n",
    "    #scrap hemisphere names\n",
    "    \n",
    "hemisphere_name = mars_hemisphere_soup.find_all('h3')\n",
    "\n",
    "hemisphere_image_urls = []\n",
    "\n",
    "for name in hemisphere_name:\n",
    "    \n",
    "    dic ={}\n",
    "    \n",
    "    #add hemisphere name to dictionary\n",
    "    \n",
    "    holder = name.text\n",
    "    \n",
    "    dic[\"title\"] = holder\n",
    "    \n",
    "    #clean title (lower case; remove \"hemisphere\", replace sapce with underscore)\n",
    "    \n",
    "    url_title_holder = holder.lower().replace(\"hemisphere\", \"\").replace(\" \", \"_\")\n",
    "    \n",
    "    #add url to dictionary\n",
    "    \n",
    "    dic[\"image_url\"] = f\"https://astropedia.astrogeology.usgs.gov/download/Mars/Viking/{url_title_holder}.tif/full.jpg\"\n",
    "    \n",
    "    #append dictionary to list\n",
    "    \n",
    "    hemisphere_image_urls.append(dic)"
   ]
  },
  {
   "cell_type": "code",
   "execution_count": 146,
   "metadata": {},
   "outputs": [
    {
     "data": {
      "text/plain": [
       "[{'title': 'Cerberus Hemisphere Enhanced',\n",
       "  'image_url': 'https://astropedia.astrogeology.usgs.gov/download/Mars/Viking/cerberus__enhanced.tif/full.jpg'},\n",
       " {'title': 'Schiaparelli Hemisphere Enhanced',\n",
       "  'image_url': 'https://astropedia.astrogeology.usgs.gov/download/Mars/Viking/schiaparelli__enhanced.tif/full.jpg'},\n",
       " {'title': 'Syrtis Major Hemisphere Enhanced',\n",
       "  'image_url': 'https://astropedia.astrogeology.usgs.gov/download/Mars/Viking/syrtis_major__enhanced.tif/full.jpg'},\n",
       " {'title': 'Valles Marineris Hemisphere Enhanced',\n",
       "  'image_url': 'https://astropedia.astrogeology.usgs.gov/download/Mars/Viking/valles_marineris__enhanced.tif/full.jpg'}]"
      ]
     },
     "execution_count": 146,
     "metadata": {},
     "output_type": "execute_result"
    }
   ],
   "source": [
    "#verify\n",
    "hemisphere_image_urls"
   ]
  }
 ],
 "metadata": {
  "kernelspec": {
   "display_name": "Python 3",
   "language": "python",
   "name": "python3"
  },
  "language_info": {
   "codemirror_mode": {
    "name": "ipython",
    "version": 3
   },
   "file_extension": ".py",
   "mimetype": "text/x-python",
   "name": "python",
   "nbconvert_exporter": "python",
   "pygments_lexer": "ipython3",
   "version": "3.7.6"
  }
 },
 "nbformat": 4,
 "nbformat_minor": 4
}
